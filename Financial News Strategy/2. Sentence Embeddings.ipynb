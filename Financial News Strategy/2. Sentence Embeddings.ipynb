{
 "cells": [
  {
   "cell_type": "markdown",
   "metadata": {},
   "source": [
    "# Financial News Strategy | 2. Sentence Embeddings"
   ]
  },
  {
   "cell_type": "markdown",
   "metadata": {
    "jp-MarkdownHeadingCollapsed": true
   },
   "source": [
    "### Open article on [Medium]() | [Colab]() | [Github]()"
   ]
  },
  {
   "cell_type": "markdown",
   "metadata": {},
   "source": [
    "[SciQnt.com](https://www.sciqnt.com) makes things easier. Try it out."
   ]
  },
  {
   "cell_type": "markdown",
   "metadata": {},
   "source": [
    "<div class=\"alert alert-block alert-info\">\n",
    "<b>Disclaimer:</b> Our strategies are tailored to specific input data and desired outcomes, which means the results presented here may not fully apply to your unique situation. The primary goal is to expose you to various approaches and key considerations. Additionally, please understand that the stock market is highly complex and constantly evolving; predicting returns is challenging, and no strategy is foolproof. Moreover, we want to be transparent about our use of state-of-the-art Large Language Models (LLMs) in our research. While these tools are invaluable, particularly in the writing process, they cannot independently conduct the research. They are used to augment our efforts, not replace them.\n",
    "</div>"
   ]
  },
  {
   "cell_type": "markdown",
   "metadata": {},
   "source": [
    "### Related Articles\n",
    "- [Financial News Strategy | 1. Sourcing Financial News]()\n",
    "- [Financial News Strategy | 2. Sentence Embeddings (This Article)]()\n",
    "- [Financial News Strategy | 3. Embeddings Dimensionality Reduction]() **to be released\n",
    "- [Financial News Strategy | 4. Clustering Financial News]() **to be released"
   ]
  },
  {
   "cell_type": "markdown",
   "metadata": {},
   "source": [
    "---"
   ]
  },
  {
   "cell_type": "markdown",
   "metadata": {},
   "source": [
    "### Background\n",
    "In the fast-paced world of financial news and behavioral finance, each piece of information contains both fundamental and non-fundamental elements. The challenge lies in sifting through the overwhelming noise and massive influx of data that surpass human processing capabilities. But what if we could identify patterns within this data? Better yet, what if we could use computers to do it for us? Today, we are fortunate to have access to open-source models that make text comprehensible to machines. This process, known as ‘Sentence Embeddings,’ has revolutionized AI and deep learning. By converting textual data into meaningful numerical representations, sentence embeddings empower us to discern market sentiment, spot emerging trends, and predict financial movements with unprecedented efficiency and accuracy."
   ]
  },
  {
   "cell_type": "markdown",
   "metadata": {},
   "source": [
    "### Introduction\n",
    "Once we have collected financial news, the next step is to automate its interpretation. This means transforming the raw data for downstream applications like detecting trending topics through clustering or performing sentiment analysis. At the heart of this transformation is 'Sentence Embeddings,' which convert complex textual data into meaningful numerical vectors. This article delves into how to leverage pre-trained models to transform your data, enabling you to extract deeper insights and make more informed decisions in the dynamic world of finance."
   ]
  },
  {
   "cell_type": "code",
   "execution_count": 6,
   "metadata": {},
   "outputs": [],
   "source": [
    "%%capture\n",
    "# Install the necessary packages\n",
    "!pip install plotly pandas numpy matplotlib seaborn sentence-transformers sklearn"
   ]
  },
  {
   "cell_type": "code",
   "execution_count": 34,
   "metadata": {},
   "outputs": [
    {
     "data": {
      "application/vnd.plotly.v1+json": {
       "config": {
        "plotlyServerURL": "https://plot.ly"
       },
       "data": [
        {
         "hovertemplate": "Title=The stock market is experiencing a significant downturn.<br>X=%{x}<br>Y=%{y}<br>Z=%{z}<extra></extra>",
         "legendgroup": "The stock market is experiencing a significant downturn.",
         "marker": {
          "color": "#636efa",
          "size": 5,
          "symbol": "circle"
         },
         "mode": "markers",
         "name": "The stock market is experiencing a significant downturn.",
         "scene": "scene",
         "showlegend": true,
         "type": "scatter3d",
         "x": [
          0.8
         ],
         "y": [
          -0.6
         ],
         "z": [
          0.3
         ]
        },
        {
         "hovertemplate": "Title=The economy is showing signs of recovery.<br>X=%{x}<br>Y=%{y}<br>Z=%{z}<extra></extra>",
         "legendgroup": "The economy is showing signs of recovery.",
         "marker": {
          "color": "#EF553B",
          "size": 5,
          "symbol": "circle"
         },
         "mode": "markers",
         "name": "The economy is showing signs of recovery.",
         "scene": "scene",
         "showlegend": true,
         "type": "scatter3d",
         "x": [
          0.7
         ],
         "y": [
          -0.5
         ],
         "z": [
          0.4
         ]
        },
        {
         "hovertemplate": "Title=There is a major decline in the stock market today.<br>X=%{x}<br>Y=%{y}<br>Z=%{z}<extra></extra>",
         "legendgroup": "There is a major decline in the stock market today.",
         "marker": {
          "color": "#00cc96",
          "size": 5,
          "symbol": "circle"
         },
         "mode": "markers",
         "name": "There is a major decline in the stock market today.",
         "scene": "scene",
         "showlegend": true,
         "type": "scatter3d",
         "x": [
          0.8
         ],
         "y": [
          -0.5
         ],
         "z": [
          0.3
         ]
        },
        {
         "hovertemplate": "Title=The weather is sunny and pleasant.<br>X=%{x}<br>Y=%{y}<br>Z=%{z}<extra></extra>",
         "legendgroup": "The weather is sunny and pleasant.",
         "marker": {
          "color": "#ab63fa",
          "size": 5,
          "symbol": "circle"
         },
         "mode": "markers",
         "name": "The weather is sunny and pleasant.",
         "scene": "scene",
         "showlegend": true,
         "type": "scatter3d",
         "x": [
          0.1
         ],
         "y": [
          0.9
         ],
         "z": [
          -0.2
         ]
        },
        {
         "hovertemplate": "Title=Apple releases its new iPhone model.<br>X=%{x}<br>Y=%{y}<br>Z=%{z}<extra></extra>",
         "legendgroup": "Apple releases its new iPhone model.",
         "marker": {
          "color": "#FFA15A",
          "size": 5,
          "symbol": "circle"
         },
         "mode": "markers",
         "name": "Apple releases its new iPhone model.",
         "scene": "scene",
         "showlegend": true,
         "type": "scatter3d",
         "x": [
          -0.3
         ],
         "y": [
          0.4
         ],
         "z": [
          0.9
         ]
        },
        {
         "hovertemplate": "Title=It's raining heavily in the city.<br>X=%{x}<br>Y=%{y}<br>Z=%{z}<extra></extra>",
         "legendgroup": "It's raining heavily in the city.",
         "marker": {
          "color": "#19d3f3",
          "size": 5,
          "symbol": "circle"
         },
         "mode": "markers",
         "name": "It's raining heavily in the city.",
         "scene": "scene",
         "showlegend": true,
         "type": "scatter3d",
         "x": [
          0
         ],
         "y": [
          0.8
         ],
         "z": [
          -0.3
         ]
        }
       ],
       "layout": {
        "legend": {
         "title": {
          "text": "Titles"
         },
         "tracegroupgap": 0
        },
        "margin": {
         "b": 0,
         "l": 0,
         "r": 0,
         "t": 40
        },
        "scene": {
         "domain": {
          "x": [
           0,
           1
          ],
          "y": [
           0,
           1
          ]
         },
         "xaxis": {
          "title": {
           "text": "PCA Component 1"
          }
         },
         "yaxis": {
          "title": {
           "text": "PCA Component 2"
          }
         },
         "zaxis": {
          "title": {
           "text": "PCA Component 3"
          }
         }
        },
        "template": {
         "data": {
          "bar": [
           {
            "error_x": {
             "color": "#2a3f5f"
            },
            "error_y": {
             "color": "#2a3f5f"
            },
            "marker": {
             "line": {
              "color": "#E5ECF6",
              "width": 0.5
             },
             "pattern": {
              "fillmode": "overlay",
              "size": 10,
              "solidity": 0.2
             }
            },
            "type": "bar"
           }
          ],
          "barpolar": [
           {
            "marker": {
             "line": {
              "color": "#E5ECF6",
              "width": 0.5
             },
             "pattern": {
              "fillmode": "overlay",
              "size": 10,
              "solidity": 0.2
             }
            },
            "type": "barpolar"
           }
          ],
          "carpet": [
           {
            "aaxis": {
             "endlinecolor": "#2a3f5f",
             "gridcolor": "white",
             "linecolor": "white",
             "minorgridcolor": "white",
             "startlinecolor": "#2a3f5f"
            },
            "baxis": {
             "endlinecolor": "#2a3f5f",
             "gridcolor": "white",
             "linecolor": "white",
             "minorgridcolor": "white",
             "startlinecolor": "#2a3f5f"
            },
            "type": "carpet"
           }
          ],
          "choropleth": [
           {
            "colorbar": {
             "outlinewidth": 0,
             "ticks": ""
            },
            "type": "choropleth"
           }
          ],
          "contour": [
           {
            "colorbar": {
             "outlinewidth": 0,
             "ticks": ""
            },
            "colorscale": [
             [
              0,
              "#0d0887"
             ],
             [
              0.1111111111111111,
              "#46039f"
             ],
             [
              0.2222222222222222,
              "#7201a8"
             ],
             [
              0.3333333333333333,
              "#9c179e"
             ],
             [
              0.4444444444444444,
              "#bd3786"
             ],
             [
              0.5555555555555556,
              "#d8576b"
             ],
             [
              0.6666666666666666,
              "#ed7953"
             ],
             [
              0.7777777777777778,
              "#fb9f3a"
             ],
             [
              0.8888888888888888,
              "#fdca26"
             ],
             [
              1,
              "#f0f921"
             ]
            ],
            "type": "contour"
           }
          ],
          "contourcarpet": [
           {
            "colorbar": {
             "outlinewidth": 0,
             "ticks": ""
            },
            "type": "contourcarpet"
           }
          ],
          "heatmap": [
           {
            "colorbar": {
             "outlinewidth": 0,
             "ticks": ""
            },
            "colorscale": [
             [
              0,
              "#0d0887"
             ],
             [
              0.1111111111111111,
              "#46039f"
             ],
             [
              0.2222222222222222,
              "#7201a8"
             ],
             [
              0.3333333333333333,
              "#9c179e"
             ],
             [
              0.4444444444444444,
              "#bd3786"
             ],
             [
              0.5555555555555556,
              "#d8576b"
             ],
             [
              0.6666666666666666,
              "#ed7953"
             ],
             [
              0.7777777777777778,
              "#fb9f3a"
             ],
             [
              0.8888888888888888,
              "#fdca26"
             ],
             [
              1,
              "#f0f921"
             ]
            ],
            "type": "heatmap"
           }
          ],
          "heatmapgl": [
           {
            "colorbar": {
             "outlinewidth": 0,
             "ticks": ""
            },
            "colorscale": [
             [
              0,
              "#0d0887"
             ],
             [
              0.1111111111111111,
              "#46039f"
             ],
             [
              0.2222222222222222,
              "#7201a8"
             ],
             [
              0.3333333333333333,
              "#9c179e"
             ],
             [
              0.4444444444444444,
              "#bd3786"
             ],
             [
              0.5555555555555556,
              "#d8576b"
             ],
             [
              0.6666666666666666,
              "#ed7953"
             ],
             [
              0.7777777777777778,
              "#fb9f3a"
             ],
             [
              0.8888888888888888,
              "#fdca26"
             ],
             [
              1,
              "#f0f921"
             ]
            ],
            "type": "heatmapgl"
           }
          ],
          "histogram": [
           {
            "marker": {
             "pattern": {
              "fillmode": "overlay",
              "size": 10,
              "solidity": 0.2
             }
            },
            "type": "histogram"
           }
          ],
          "histogram2d": [
           {
            "colorbar": {
             "outlinewidth": 0,
             "ticks": ""
            },
            "colorscale": [
             [
              0,
              "#0d0887"
             ],
             [
              0.1111111111111111,
              "#46039f"
             ],
             [
              0.2222222222222222,
              "#7201a8"
             ],
             [
              0.3333333333333333,
              "#9c179e"
             ],
             [
              0.4444444444444444,
              "#bd3786"
             ],
             [
              0.5555555555555556,
              "#d8576b"
             ],
             [
              0.6666666666666666,
              "#ed7953"
             ],
             [
              0.7777777777777778,
              "#fb9f3a"
             ],
             [
              0.8888888888888888,
              "#fdca26"
             ],
             [
              1,
              "#f0f921"
             ]
            ],
            "type": "histogram2d"
           }
          ],
          "histogram2dcontour": [
           {
            "colorbar": {
             "outlinewidth": 0,
             "ticks": ""
            },
            "colorscale": [
             [
              0,
              "#0d0887"
             ],
             [
              0.1111111111111111,
              "#46039f"
             ],
             [
              0.2222222222222222,
              "#7201a8"
             ],
             [
              0.3333333333333333,
              "#9c179e"
             ],
             [
              0.4444444444444444,
              "#bd3786"
             ],
             [
              0.5555555555555556,
              "#d8576b"
             ],
             [
              0.6666666666666666,
              "#ed7953"
             ],
             [
              0.7777777777777778,
              "#fb9f3a"
             ],
             [
              0.8888888888888888,
              "#fdca26"
             ],
             [
              1,
              "#f0f921"
             ]
            ],
            "type": "histogram2dcontour"
           }
          ],
          "mesh3d": [
           {
            "colorbar": {
             "outlinewidth": 0,
             "ticks": ""
            },
            "type": "mesh3d"
           }
          ],
          "parcoords": [
           {
            "line": {
             "colorbar": {
              "outlinewidth": 0,
              "ticks": ""
             }
            },
            "type": "parcoords"
           }
          ],
          "pie": [
           {
            "automargin": true,
            "type": "pie"
           }
          ],
          "scatter": [
           {
            "fillpattern": {
             "fillmode": "overlay",
             "size": 10,
             "solidity": 0.2
            },
            "type": "scatter"
           }
          ],
          "scatter3d": [
           {
            "line": {
             "colorbar": {
              "outlinewidth": 0,
              "ticks": ""
             }
            },
            "marker": {
             "colorbar": {
              "outlinewidth": 0,
              "ticks": ""
             }
            },
            "type": "scatter3d"
           }
          ],
          "scattercarpet": [
           {
            "marker": {
             "colorbar": {
              "outlinewidth": 0,
              "ticks": ""
             }
            },
            "type": "scattercarpet"
           }
          ],
          "scattergeo": [
           {
            "marker": {
             "colorbar": {
              "outlinewidth": 0,
              "ticks": ""
             }
            },
            "type": "scattergeo"
           }
          ],
          "scattergl": [
           {
            "marker": {
             "colorbar": {
              "outlinewidth": 0,
              "ticks": ""
             }
            },
            "type": "scattergl"
           }
          ],
          "scattermapbox": [
           {
            "marker": {
             "colorbar": {
              "outlinewidth": 0,
              "ticks": ""
             }
            },
            "type": "scattermapbox"
           }
          ],
          "scatterpolar": [
           {
            "marker": {
             "colorbar": {
              "outlinewidth": 0,
              "ticks": ""
             }
            },
            "type": "scatterpolar"
           }
          ],
          "scatterpolargl": [
           {
            "marker": {
             "colorbar": {
              "outlinewidth": 0,
              "ticks": ""
             }
            },
            "type": "scatterpolargl"
           }
          ],
          "scatterternary": [
           {
            "marker": {
             "colorbar": {
              "outlinewidth": 0,
              "ticks": ""
             }
            },
            "type": "scatterternary"
           }
          ],
          "surface": [
           {
            "colorbar": {
             "outlinewidth": 0,
             "ticks": ""
            },
            "colorscale": [
             [
              0,
              "#0d0887"
             ],
             [
              0.1111111111111111,
              "#46039f"
             ],
             [
              0.2222222222222222,
              "#7201a8"
             ],
             [
              0.3333333333333333,
              "#9c179e"
             ],
             [
              0.4444444444444444,
              "#bd3786"
             ],
             [
              0.5555555555555556,
              "#d8576b"
             ],
             [
              0.6666666666666666,
              "#ed7953"
             ],
             [
              0.7777777777777778,
              "#fb9f3a"
             ],
             [
              0.8888888888888888,
              "#fdca26"
             ],
             [
              1,
              "#f0f921"
             ]
            ],
            "type": "surface"
           }
          ],
          "table": [
           {
            "cells": {
             "fill": {
              "color": "#EBF0F8"
             },
             "line": {
              "color": "white"
             }
            },
            "header": {
             "fill": {
              "color": "#C8D4E3"
             },
             "line": {
              "color": "white"
             }
            },
            "type": "table"
           }
          ]
         },
         "layout": {
          "annotationdefaults": {
           "arrowcolor": "#2a3f5f",
           "arrowhead": 0,
           "arrowwidth": 1
          },
          "autotypenumbers": "strict",
          "coloraxis": {
           "colorbar": {
            "outlinewidth": 0,
            "ticks": ""
           }
          },
          "colorscale": {
           "diverging": [
            [
             0,
             "#8e0152"
            ],
            [
             0.1,
             "#c51b7d"
            ],
            [
             0.2,
             "#de77ae"
            ],
            [
             0.3,
             "#f1b6da"
            ],
            [
             0.4,
             "#fde0ef"
            ],
            [
             0.5,
             "#f7f7f7"
            ],
            [
             0.6,
             "#e6f5d0"
            ],
            [
             0.7,
             "#b8e186"
            ],
            [
             0.8,
             "#7fbc41"
            ],
            [
             0.9,
             "#4d9221"
            ],
            [
             1,
             "#276419"
            ]
           ],
           "sequential": [
            [
             0,
             "#0d0887"
            ],
            [
             0.1111111111111111,
             "#46039f"
            ],
            [
             0.2222222222222222,
             "#7201a8"
            ],
            [
             0.3333333333333333,
             "#9c179e"
            ],
            [
             0.4444444444444444,
             "#bd3786"
            ],
            [
             0.5555555555555556,
             "#d8576b"
            ],
            [
             0.6666666666666666,
             "#ed7953"
            ],
            [
             0.7777777777777778,
             "#fb9f3a"
            ],
            [
             0.8888888888888888,
             "#fdca26"
            ],
            [
             1,
             "#f0f921"
            ]
           ],
           "sequentialminus": [
            [
             0,
             "#0d0887"
            ],
            [
             0.1111111111111111,
             "#46039f"
            ],
            [
             0.2222222222222222,
             "#7201a8"
            ],
            [
             0.3333333333333333,
             "#9c179e"
            ],
            [
             0.4444444444444444,
             "#bd3786"
            ],
            [
             0.5555555555555556,
             "#d8576b"
            ],
            [
             0.6666666666666666,
             "#ed7953"
            ],
            [
             0.7777777777777778,
             "#fb9f3a"
            ],
            [
             0.8888888888888888,
             "#fdca26"
            ],
            [
             1,
             "#f0f921"
            ]
           ]
          },
          "colorway": [
           "#636efa",
           "#EF553B",
           "#00cc96",
           "#ab63fa",
           "#FFA15A",
           "#19d3f3",
           "#FF6692",
           "#B6E880",
           "#FF97FF",
           "#FECB52"
          ],
          "font": {
           "color": "#2a3f5f"
          },
          "geo": {
           "bgcolor": "white",
           "lakecolor": "white",
           "landcolor": "#E5ECF6",
           "showlakes": true,
           "showland": true,
           "subunitcolor": "white"
          },
          "hoverlabel": {
           "align": "left"
          },
          "hovermode": "closest",
          "mapbox": {
           "style": "light"
          },
          "paper_bgcolor": "white",
          "plot_bgcolor": "#E5ECF6",
          "polar": {
           "angularaxis": {
            "gridcolor": "white",
            "linecolor": "white",
            "ticks": ""
           },
           "bgcolor": "#E5ECF6",
           "radialaxis": {
            "gridcolor": "white",
            "linecolor": "white",
            "ticks": ""
           }
          },
          "scene": {
           "xaxis": {
            "backgroundcolor": "#E5ECF6",
            "gridcolor": "white",
            "gridwidth": 2,
            "linecolor": "white",
            "showbackground": true,
            "ticks": "",
            "zerolinecolor": "white"
           },
           "yaxis": {
            "backgroundcolor": "#E5ECF6",
            "gridcolor": "white",
            "gridwidth": 2,
            "linecolor": "white",
            "showbackground": true,
            "ticks": "",
            "zerolinecolor": "white"
           },
           "zaxis": {
            "backgroundcolor": "#E5ECF6",
            "gridcolor": "white",
            "gridwidth": 2,
            "linecolor": "white",
            "showbackground": true,
            "ticks": "",
            "zerolinecolor": "white"
           }
          },
          "shapedefaults": {
           "line": {
            "color": "#2a3f5f"
           }
          },
          "ternary": {
           "aaxis": {
            "gridcolor": "white",
            "linecolor": "white",
            "ticks": ""
           },
           "baxis": {
            "gridcolor": "white",
            "linecolor": "white",
            "ticks": ""
           },
           "bgcolor": "#E5ECF6",
           "caxis": {
            "gridcolor": "white",
            "linecolor": "white",
            "ticks": ""
           }
          },
          "title": {
           "x": 0.05
          },
          "xaxis": {
           "automargin": true,
           "gridcolor": "white",
           "linecolor": "white",
           "ticks": "",
           "title": {
            "standoff": 15
           },
           "zerolinecolor": "white",
           "zerolinewidth": 2
          },
          "yaxis": {
           "automargin": true,
           "gridcolor": "white",
           "linecolor": "white",
           "ticks": "",
           "title": {
            "standoff": 15
           },
           "zerolinecolor": "white",
           "zerolinewidth": 2
          }
         }
        },
        "title": {
         "text": "3D Visualization of Financial News Titles w/ Manual Embeddings"
        }
       }
      }
     },
     "metadata": {},
     "output_type": "display_data"
    }
   ],
   "source": [
    "import plotly.graph_objs as go\n",
    "import plotly.express as px\n",
    "import pandas as pd\n",
    "from sklearn.decomposition import PCA\n",
    "\n",
    "# Example embeddings and titles\n",
    "embeddings = [\n",
    "    [0.8, -0.6, 0.3],\n",
    "    [0.7, -0.5, 0.4],\n",
    "    [0.8, -0.5, 0.3],\n",
    "    [0.1, 0.9, -0.2],\n",
    "    [-0.3, 0.4, 0.9],\n",
    "    [0.0, 0.8, -0.3]\n",
    "]\n",
    "\n",
    "titles = [\n",
    "    \"The stock market is experiencing a significant downturn.\",\n",
    "    \"The economy is showing signs of recovery.\",\n",
    "    \"There is a major decline in the stock market today.\",\n",
    "    \"The weather is sunny and pleasant.\",\n",
    "    \"Apple releases its new iPhone model.\",\n",
    "    \"It's raining heavily in the city.\"\n",
    "]\n",
    "\n",
    "# Convert vectors to a DataFrame\n",
    "data = {\n",
    "    'Title': titles,\n",
    "    'X': [vec[0] for vec in embeddings],\n",
    "    'Y': [vec[1] for vec in embeddings],\n",
    "    'Z': [vec[2] for vec in embeddings]\n",
    "}\n",
    "\n",
    "df = pd.DataFrame(data)\n",
    "\n",
    "# Create a 3D scatter plot\n",
    "fig = px.scatter_3d(df, x='X', y='Y', z='Z', color='Title')\n",
    "\n",
    "# Update marker size and remove text labels\n",
    "fig.update_traces(marker=dict(size=5), selector=dict(mode='markers'))\n",
    "\n",
    "# Set the layout of the plot\n",
    "fig.update_layout(\n",
    "    scene=dict(\n",
    "        xaxis_title='PCA Component 1',\n",
    "        yaxis_title='PCA Component 2',\n",
    "        zaxis_title='PCA Component 3'\n",
    "    ),\n",
    "    title='3D Visualization of Financial News Titles w/ Manual Embeddings',\n",
    "    legend_title='Titles',\n",
    "    margin=dict(l=0, r=0, b=0, t=40)\n",
    ")\n",
    "\n",
    "fig.show()"
   ]
  },
  {
   "cell_type": "markdown",
   "metadata": {},
   "source": [
    "This example illustrates how sentence embeddings map sentences to corresponding vectors in a numerical space. Although we have manually assigned these vectors for demonstration purposes, in practice, pre-trained models handle this complex task. Sentence embeddings enable us to mathematically derive relationships between sentences. Observing the chart above, we see that \"The stock market is experiencing a significant downturn.\" is very close to \"There is a major decline in the stock market today.\" These sentences share a similar context and sentiment, hence their proximity. In contrast, \"The economy is showing signs of recovery.\" is somewhat further away, reflecting its different sentiment while still being related to economic context. This demonstrates how embeddings capture nuanced relationships between sentences, allowing for sophisticated text analysis.\n",
    "\n",
    "This is a quite modest explanation of sentence embeddings. In case you're unfamiliar with it and want to understand more about it take a look at the resources:\n",
    " - [Sentence Transformers Documentation - SBERT](https://sbert.net)\n",
    " - [Hugging Face Transformers Documentation](https://huggingface.co/docs/transformers/en/index)\n",
    " - [TenserFlow Tutorials](https://www.tensorflow.org/hub/tutorials)\n",
    " - [Google Universal Sentence Encoder](https://static.googleusercontent.com/media/research.google.com/en//pubs/archive/46808.pdf)\n",
    " - [FastText Documentation](https://fasttext.cc/docs/en/support.html)\n",
    " - [spaCy Documentation](https://spacy.io/api/doc)\n",
    " - [The Illustrated BERT, ELMo, and co. by Jay Alammar](http://jalammar.github.io/illustrated-bert/)\n",
    " - [Universal Sentence Encoder Colab](https://colab.research.google.com/drive/132E8CG4fRT0Yudxs5eYIm9xD69o242Uw?usp=sharing%3A)\n",
    " - [Sentence Embeddings using Siamese BERT-Networks](https://arxiv.org/abs/1908.10084)\n"
   ]
  },
  {
   "cell_type": "markdown",
   "metadata": {},
   "source": [
    "----"
   ]
  },
  {
   "cell_type": "markdown",
   "metadata": {},
   "source": [
    "### Model of Choice: SBERT - [all-MiniLM-L6-v2](https://huggingface.co/sentence-transformers/all-MiniLM-L6-v2)\n",
    "**SBERT (Sentence-BERT)**, especially the **[all-MiniLM-L6-v2](https://huggingface.co/sentence-transformers/all-MiniLM-L6-v2)** model, stands out as the go-to option for clustering financial news titles. Its blend of efficiency, accuracy, and deep semantic understanding makes it superior to many alternatives. Here's why **SBERT [all-MiniLM-L6-v2](https://huggingface.co/sentence-transformers/all-MiniLM-L6-v2)** often takes the lead:"
   ]
  },
  {
   "cell_type": "markdown",
   "metadata": {},
   "source": [
    "##### High Quality\n",
    "SBERT [all-MiniLM-L6-v2](https://huggingface.co/sentence-transformers/all-MiniLM-L6-v2) is exceptional at grasping the nuances of sentence-level semantics. This model is highly effective in understanding and grouping similar financial news titles, where subtle contextual differences can significantly influence clustering outcomes. While USE and DistilBERT offer good semantic understanding, they don't quite match SBERT's fine-tuning for sentence similarity, particularly in the complex world of financial news.\n",
    "\n",
    "##### Efficiency\n",
    "Designed to be lightweight, SBERT [all-MiniLM-L6-v2](https://huggingface.co/sentence-transformers/all-MiniLM-L6-v2) shines in large-scale clustering tasks without sacrificing embedding quality. It balances model size and performance perfectly, making it ideal for real-time analysis and handling large datasets. In contrast, DistilBERT, though smaller and faster than full BERT, doesn't capture sentence-level semantics as effectively as SBERT. USE is efficient but tends to be bulkier compared to the sleek SBERT [all-MiniLM-L6-v2](https://huggingface.co/sentence-transformers/all-MiniLM-L6-v2).\n",
    "\n",
    "##### Versatility and Ease of Use\n",
    "SBERT is easy to integrate with popular NLP libraries and comes with thorough documentation, making deployment and experimentation straightforward. While USE and DistilBERT are also user-friendly, SBERT's approach to sentence-level embeddings is more refined, making it particularly suited for tasks like clustering and semantic similarity.\n",
    "\n",
    "##### Pre-Trained on Diverse Data\n",
    "SBERT [all-MiniLM-L6-v2](https://huggingface.co/sentence-transformers/all-MiniLM-L6-v2) is pre-trained on large, diverse datasets, ensuring it handles various types of financial news robustly. This extensive pre-training means it generalizes well across different contexts and terminologies found in financial titles. FastText and GloVe, in contrast, focus more on word-level embeddings and lack the sophisticated sentence-level training that SBERT excels at.\n",
    "\n",
    "##### Accuracy in Semantic Matching\n",
    "The [all-MiniLM-L6-v2](https://huggingface.co/sentence-transformers/all-MiniLM-L6-v2) model is built for highly accurate semantic matching, which is crucial for clustering news titles where context and sentiment are key. USE and DistilBERT also perform well in this area, but they don't quite reach the level of fine-tuning and optimization that SBERT provides specifically for sentence-level tasks.\n",
    "\n",
    "Here are some of the alternative options summarized, if you want to explore other models and comparison in performance check out the [Massive Text Embedding Benchmark (MTEB) Leaderboard](https://medium.com/r/?url=https%3A%2F%2Fhuggingface.co%2Fspaces%2Fmteb%2Fleaderboard).\n",
    "\n",
    "\n",
    "1. **[BERT](https://huggingface.co/docs/transformers/en/model_doc/bert) (Bidirectional Encoder Representations from Transformers):**  BERT is a pre-trained language model developed by Google. It captures bidirectional context and has been widely used for various NLP tasks.\n",
    "Pros: (High accuracy, Captures bidirectional context, Versatile for various NLP tasks)\n",
    "Cons: (Computationally expensive, Slower inference time, Large memory footprint)\n",
    "Example Models: bert-base-uncased, bert-large-uncased\n",
    "\n",
    "2. **[RoBERTa](https://huggingface.co/docs/transformers/en/model_doc/roberta) (Robustly optimized BERT approach):** RoBERTa is an optimized version of BERT by Facebook AI, trained with larger mini-batches and longer sequences.\n",
    " Example Models: roberta-base, roberta-large\n",
    "\n",
    "3. **[ALBERT](https://huggingface.co/docs/transformers/en/model_doc/albert) (A Lite BERT):** ALBERT is a lighter version of BERT that reduces the number of parameters to improve training efficiency and scalability.\n",
    "Example Models: albert-base-v2, albert-large-v2\n",
    "\n",
    "4. **[SBERT](https://huggingface.co/sentence-transformers) (Sentence-BERT):** SBERT is a modification of the BERT network to derive semantically meaningful sentence embeddings that can be compared using cosine similarity.\n",
    "Example Models: [all-MiniLM-L6-v2](https://huggingface.co/sentence-transformers/all-MiniLM-L6-v2), paraphrase-MiniLM-L12-v2\n",
    "\n",
    "5. **[USE](https://www.tensorflow.org/hub/tutorials/semantic_similarity_with_tf_hub_universal_encoder) (Universal Sentence Encoder):** USE by Google provides versatile sentence embeddings optimized for a variety of tasks and languages.\n",
    "Example Models: universal-sentence-encoder, universal-sentence-encoder-large\n",
    "\n",
    "6. **[GloVe](https://nlp.stanford.edu/projects/glove/) (Global Vectors for Word Representation):** GloVe is an unsupervised learning algorithm for obtaining vector representations for words, which can be used to create sentence embeddings by averaging word vectors. \n",
    "Example Models: glove.6B.300d, glove.840B.300d\n",
    "\n",
    "7. **[FastText](https://fasttext.cc):**  FastText by Facebook AI is an extension of the Word2Vec model that uses subword information to create word vectors, which can be used to form sentence embeddings.\n",
    "Example Models: wiki-news-300d-1M, crawl-300d-2M\n",
    "\n",
    "8. **[T5](https://huggingface.co/docs/transformers/en/model_doc/t5) (Text-to-Text Transfer Transformer):** T5 by Google treats all NLP tasks as a text-to-text problem, which can be used to generate embeddings from sentence representations.\n",
    "Example Models: t5-small, t5-large\n",
    "\n",
    "9. **[XLNet](https://huggingface.co/docs/transformers/en/model_doc/xlnet):** XLNet is an auto-regressive pre-trained language model that combines the best of both autoregressive and autoencoding language models.\n",
    "• Example Models: xlnet-base-cased, xlnet-large-cased\n",
    "\n",
    "10. **[ERNIE](https://huggingface.co/docs/transformers/en/model_doc/ernie) (Enhanced Representation through Knowledge Integration):** ERNIE by Baidu integrates knowledge graphs into the pre-training process to enhance the understanding of language context.\n",
    "Example Models: ernie-1.0, ernie-2.0\n",
    "\n",
    "11. **[DistilBERT](https://huggingface.co/docs/transformers/en/model_doc/distilbert):** DistilBERT is a smaller, faster, and lighter version of BERT that retains 97% of BERT's language understanding.\n",
    "Example Models: distilbert-base-uncased, distilbert-base-multilingual-cased"
   ]
  },
  {
   "cell_type": "markdown",
   "metadata": {},
   "source": [
    "---"
   ]
  },
  {
   "cell_type": "markdown",
   "metadata": {},
   "source": [
    "### Sentence Embeddings using SBERT"
   ]
  },
  {
   "cell_type": "markdown",
   "metadata": {},
   "source": [
    "The **SBERT [all-MiniLM-L6-v2](https://huggingface.co/sentence-transformers/all-MiniLM-L6-v2)** model, hosted by **Hugging Face**, simplifies the implementation of advanced semantic analysis, making it accessible even for complex tasks (a big win for us!). To get started, you only need to install the sentence-transformers library via pip, which provides easy access to the SentenceTransformer module. This module allows you to transform sentences into rich, meaningful vector representations that capture their semantic essence. In essence, a sentence transformer converts text into numerical vectors, enabling nuanced understanding and comparison of sentences. You can learn more about sentence transformers here.\n",
    "\n",
    "Once the model is loaded, you can simply use model.encode to generate these embeddings, unlocking the potential to analyze and cluster text based on its meaning. This function turns your sentences into vectors that can be used to perform a wide range of downstream tasks, from clustering and classification to semantic search and beyond.\n",
    "\n",
    "Here's the implementation in python:"
   ]
  },
  {
   "cell_type": "code",
   "execution_count": 35,
   "metadata": {},
   "outputs": [],
   "source": [
    "from sentence_transformers import SentenceTransformer\n",
    "\n",
    "# Example financial news titles\n",
    "titles = [\n",
    "    \"The stock market is experiencing a significant downturn.\",\n",
    "    \"The stock market saw a sharp decline today.\",\n",
    "    \"Major losses hit the stock market.\",\n",
    "    \"Tech stocks rally as market rebounds from losses.\",\n",
    "    \"Technology shares surge following market recovery.\",\n",
    "    \"Recovery drives tech stocks to new highs.\",\n",
    "    \"Federal Reserve signals possible interest rate hike.\",\n",
    "    \"Fed hints at increasing interest rates soon.\",\n",
    "    \"Interest rate hike likely as suggested by the Federal Reserve.\",\n",
    "    \"Bitcoin reaches new all-time high amid market optimism.\",\n",
    "    \"Market optimism pushes Bitcoin to record high.\",\n",
    "    \"Bitcoin hits unprecedented levels with market cheer.\",\n",
    "    \"Oil prices surge due to supply chain disruptions.\",\n",
    "    \"Supply chain issues cause a spike in oil prices.\",\n",
    "    \"Oil prices increase sharply as supply chains falter.\"\n",
    "]\n",
    "\n",
    "# Load the SBERT model\n",
    "model = SentenceTransformer('sentence-transformers/all-MiniLM-L6-v2')\n",
    "\n",
    "# Compute embeddings\n",
    "embeddings = model.encode(titles)"
   ]
  },
  {
   "cell_type": "markdown",
   "metadata": {},
   "source": [
    "`embeddings` are dense numerical vectors that capture the semantic meaning and contextual relationships of sentences. For instance, the embedding of a sentence like \"The stock market is experiencing a significant downturn.\" might be represented as a high-dimensional vector such as `sentence1 -> [0.45, -0.40, 0.17, ...];` . Each embedding generated using **SBERT [all-MiniLM-L6-v2](https://huggingface.co/sentence-transformers/all-MiniLM-L6-v2)** consists of 384 dimensions. These dimensions collectively encode various aspects of the sentence's meaning.\n",
    "\n",
    "But as humans, we don't naturally communicate in 384-dimensional numerical vectors. So, how do we verify that the embeddings truly capture the context and meaning of our sentences in a way that's useful? There are two straightforward ways to do this:"
   ]
  },
  {
   "cell_type": "markdown",
   "metadata": {},
   "source": [
    "1. **Comparing Embedding Similarity:** Similar sentences should have embeddings that are close to each other. We can measure this similarity to see if the embeddings reflect the semantic relationships between sentences."
   ]
  },
  {
   "cell_type": "code",
   "execution_count": 36,
   "metadata": {},
   "outputs": [
    {
     "data": {
      "image/png": "[encoded data removed]",
      "text/plain": [
       "<Figure size 1000x800 with 2 Axes>"
      ]
     },
     "metadata": {},
     "output_type": "display_data"
    }
   ],
   "source": [
    "import numpy as np\n",
    "import seaborn as sns\n",
    "import matplotlib.pyplot as plt\n",
    "from sentence_transformers import SentenceTransformer\n",
    "from sklearn.metrics.pairwise import cosine_similarity\n",
    "\n",
    "# Calculate cosine similarity\n",
    "similarity_matrix = cosine_similarity(embeddings)\n",
    "\n",
    "# Mask the lower triangle and the diagonal of the similarity matrix\n",
    "mask = np.triu(np.ones_like(similarity_matrix, dtype=bool), k=1)\n",
    "\n",
    "# Plot the cosine similarity matrix as a half heatmap\n",
    "plt.figure(figsize=(10, 8))\n",
    "sns.heatmap(similarity_matrix, annot=True, mask=mask, cmap=\"Greens\", fmt=\".2f\", \n",
    "            xticklabels=titles, yticklabels=titles, cbar_kws={'label': 'Cosine Similarity'})\n",
    "plt.xticks(rotation=90, ha='center', fontsize=8)\n",
    "plt.yticks(rotation=0, fontsize=8)\n",
    "plt.title('Cosine Similarity of Financial News Titles')\n",
    "plt.tight_layout()\n",
    "plt.show()"
   ]
  },
  {
   "cell_type": "markdown",
   "metadata": {},
   "source": []
  },
  {
   "cell_type": "markdown",
   "metadata": {},
   "source": [
    "2. **Visualization:** As we demonstrated earlier, visualizing these embeddings can provide insights. Similar embeddings should cluster together in charts, showing that they capture the underlying context effectively. This way, we can visually validate that the embeddings represent the nuances of the text."
   ]
  },
  {
   "cell_type": "code",
   "execution_count": 45,
   "metadata": {},
   "outputs": [
    {
     "data": {
      "application/vnd.plotly.v1+json": {
       "config": {
        "plotlyServerURL": "https://plot.ly"
       },
       "data": [
        {
         "marker": {
          "size": 5
         },
         "mode": "markers",
         "name": "The stock market is experiencing a significant downturn.",
         "type": "scatter3d",
         "x": [
          -0.13110701739788055
         ],
         "y": [
          -0.21014821529388428
         ],
         "z": [
          -0.18943756818771362
         ]
        },
        {
         "marker": {
          "size": 5
         },
         "mode": "markers",
         "name": "The stock market saw a sharp decline today.",
         "type": "scatter3d",
         "x": [
          -0.156229168176651
         ],
         "y": [
          -0.23315106332302094
         ],
         "z": [
          -0.23974503576755524
         ]
        },
        {
         "marker": {
          "size": 5
         },
         "mode": "markers",
         "name": "Major losses hit the stock market.",
         "type": "scatter3d",
         "x": [
          -0.2706248462200165
         ],
         "y": [
          -0.19928273558616638
         ],
         "z": [
          -0.22236929833889008
         ]
        },
        {
         "marker": {
          "size": 5
         },
         "mode": "markers",
         "name": "Tech stocks rally as market rebounds from losses.",
         "type": "scatter3d",
         "x": [
          -0.32799628376960754
         ],
         "y": [
          -0.39026132225990295
         ],
         "z": [
          -0.18047727644443512
         ]
        },
        {
         "marker": {
          "size": 5
         },
         "mode": "markers",
         "name": "Technology shares surge following market recovery.",
         "type": "scatter3d",
         "x": [
          -0.40600284934043884
         ],
         "y": [
          -0.2836573123931885
         ],
         "z": [
          -0.020831944420933723
         ]
        },
        {
         "marker": {
          "size": 5
         },
         "mode": "markers",
         "name": "Recovery drives tech stocks to new highs.",
         "type": "scatter3d",
         "x": [
          -0.27360257506370544
         ],
         "y": [
          -0.3874680995941162
         ],
         "z": [
          -0.02824440784752369
         ]
        },
        {
         "marker": {
          "size": 5
         },
         "mode": "markers",
         "name": "Federal Reserve signals possible interest rate hike.",
         "type": "scatter3d",
         "x": [
          0.5922876000404358
         ],
         "y": [
          0.12686371803283691
         ],
         "z": [
          -0.34209755063056946
         ]
        },
        {
         "marker": {
          "size": 5
         },
         "mode": "markers",
         "name": "Fed hints at increasing interest rates soon.",
         "type": "scatter3d",
         "x": [
          0.6165211796760559
         ],
         "y": [
          0.06080185994505882
         ],
         "z": [
          -0.2262084186077118
         ]
        },
        {
         "marker": {
          "size": 5
         },
         "mode": "markers",
         "name": "Interest rate hike likely as suggested by the Federal Reserve.",
         "type": "scatter3d",
         "x": [
          0.5583999752998352
         ],
         "y": [
          0.11993392556905746
         ],
         "z": [
          -0.30846890807151794
         ]
        },
        {
         "marker": {
          "size": 5
         },
         "mode": "markers",
         "name": "Bitcoin reaches new all-time high amid market optimism.",
         "type": "scatter3d",
         "x": [
          0.2778681218624115
         ],
         "y": [
          -0.13342668116092682
         ],
         "z": [
          0.5782204866409302
         ]
        },
        {
         "marker": {
          "size": 5
         },
         "mode": "markers",
         "name": "Market optimism pushes Bitcoin to record high.",
         "type": "scatter3d",
         "x": [
          0.24617040157318115
         ],
         "y": [
          -0.18208938837051392
         ],
         "z": [
          0.4716894030570984
         ]
        },
        {
         "marker": {
          "size": 5
         },
         "mode": "markers",
         "name": "Bitcoin hits unprecedented levels with market cheer.",
         "type": "scatter3d",
         "x": [
          0.15581923723220825
         ],
         "y": [
          -0.1468195915222168
         ],
         "z": [
          0.5369189977645874
         ]
        },
        {
         "marker": {
          "size": 5
         },
         "mode": "markers",
         "name": "Oil prices surge due to supply chain disruptions.",
         "type": "scatter3d",
         "x": [
          -0.3655409514904022
         ],
         "y": [
          0.5905768275260925
         ],
         "z": [
          0.018689675256609917
         ]
        },
        {
         "marker": {
          "size": 5
         },
         "mode": "markers",
         "name": "Supply chain issues cause a spike in oil prices.",
         "type": "scatter3d",
         "x": [
          -0.29179927706718445
         ],
         "y": [
          0.6174343228340149
         ],
         "z": [
          0.04408988356590271
         ]
        },
        {
         "marker": {
          "size": 5
         },
         "mode": "markers",
         "name": "Oil prices increase sharply as supply chains falter.",
         "type": "scatter3d",
         "x": [
          -0.22416381537914276
         ],
         "y": [
          0.6506941318511963
         ],
         "z": [
          0.10827198624610901
         ]
        }
       ],
       "layout": {
        "legend": {
         "title": {
          "text": "Titles"
         }
        },
        "margin": {
         "b": 0,
         "l": 0,
         "r": 0,
         "t": 40
        },
        "scene": {
         "xaxis": {
          "title": {
           "text": "PCA Component 1"
          }
         },
         "yaxis": {
          "title": {
           "text": "PCA Component 2"
          }
         },
         "zaxis": {
          "title": {
           "text": "PCA Component 3"
          }
         }
        },
        "template": {
         "data": {
          "bar": [
           {
            "error_x": {
             "color": "#2a3f5f"
            },
            "error_y": {
             "color": "#2a3f5f"
            },
            "marker": {
             "line": {
              "color": "#E5ECF6",
              "width": 0.5
             },
             "pattern": {
              "fillmode": "overlay",
              "size": 10,
              "solidity": 0.2
             }
            },
            "type": "bar"
           }
          ],
          "barpolar": [
           {
            "marker": {
             "line": {
              "color": "#E5ECF6",
              "width": 0.5
             },
             "pattern": {
              "fillmode": "overlay",
              "size": 10,
              "solidity": 0.2
             }
            },
            "type": "barpolar"
           }
          ],
          "carpet": [
           {
            "aaxis": {
             "endlinecolor": "#2a3f5f",
             "gridcolor": "white",
             "linecolor": "white",
             "minorgridcolor": "white",
             "startlinecolor": "#2a3f5f"
            },
            "baxis": {
             "endlinecolor": "#2a3f5f",
             "gridcolor": "white",
             "linecolor": "white",
             "minorgridcolor": "white",
             "startlinecolor": "#2a3f5f"
            },
            "type": "carpet"
           }
          ],
          "choropleth": [
           {
            "colorbar": {
             "outlinewidth": 0,
             "ticks": ""
            },
            "type": "choropleth"
           }
          ],
          "contour": [
           {
            "colorbar": {
             "outlinewidth": 0,
             "ticks": ""
            },
            "colorscale": [
             [
              0,
              "#0d0887"
             ],
             [
              0.1111111111111111,
              "#46039f"
             ],
             [
              0.2222222222222222,
              "#7201a8"
             ],
             [
              0.3333333333333333,
              "#9c179e"
             ],
             [
              0.4444444444444444,
              "#bd3786"
             ],
             [
              0.5555555555555556,
              "#d8576b"
             ],
             [
              0.6666666666666666,
              "#ed7953"
             ],
             [
              0.7777777777777778,
              "#fb9f3a"
             ],
             [
              0.8888888888888888,
              "#fdca26"
             ],
             [
              1,
              "#f0f921"
             ]
            ],
            "type": "contour"
           }
          ],
          "contourcarpet": [
           {
            "colorbar": {
             "outlinewidth": 0,
             "ticks": ""
            },
            "type": "contourcarpet"
           }
          ],
          "heatmap": [
           {
            "colorbar": {
             "outlinewidth": 0,
             "ticks": ""
            },
            "colorscale": [
             [
              0,
              "#0d0887"
             ],
             [
              0.1111111111111111,
              "#46039f"
             ],
             [
              0.2222222222222222,
              "#7201a8"
             ],
             [
              0.3333333333333333,
              "#9c179e"
             ],
             [
              0.4444444444444444,
              "#bd3786"
             ],
             [
              0.5555555555555556,
              "#d8576b"
             ],
             [
              0.6666666666666666,
              "#ed7953"
             ],
             [
              0.7777777777777778,
              "#fb9f3a"
             ],
             [
              0.8888888888888888,
              "#fdca26"
             ],
             [
              1,
              "#f0f921"
             ]
            ],
            "type": "heatmap"
           }
          ],
          "heatmapgl": [
           {
            "colorbar": {
             "outlinewidth": 0,
             "ticks": ""
            },
            "colorscale": [
             [
              0,
              "#0d0887"
             ],
             [
              0.1111111111111111,
              "#46039f"
             ],
             [
              0.2222222222222222,
              "#7201a8"
             ],
             [
              0.3333333333333333,
              "#9c179e"
             ],
             [
              0.4444444444444444,
              "#bd3786"
             ],
             [
              0.5555555555555556,
              "#d8576b"
             ],
             [
              0.6666666666666666,
              "#ed7953"
             ],
             [
              0.7777777777777778,
              "#fb9f3a"
             ],
             [
              0.8888888888888888,
              "#fdca26"
             ],
             [
              1,
              "#f0f921"
             ]
            ],
            "type": "heatmapgl"
           }
          ],
          "histogram": [
           {
            "marker": {
             "pattern": {
              "fillmode": "overlay",
              "size": 10,
              "solidity": 0.2
             }
            },
            "type": "histogram"
           }
          ],
          "histogram2d": [
           {
            "colorbar": {
             "outlinewidth": 0,
             "ticks": ""
            },
            "colorscale": [
             [
              0,
              "#0d0887"
             ],
             [
              0.1111111111111111,
              "#46039f"
             ],
             [
              0.2222222222222222,
              "#7201a8"
             ],
             [
              0.3333333333333333,
              "#9c179e"
             ],
             [
              0.4444444444444444,
              "#bd3786"
             ],
             [
              0.5555555555555556,
              "#d8576b"
             ],
             [
              0.6666666666666666,
              "#ed7953"
             ],
             [
              0.7777777777777778,
              "#fb9f3a"
             ],
             [
              0.8888888888888888,
              "#fdca26"
             ],
             [
              1,
              "#f0f921"
             ]
            ],
            "type": "histogram2d"
           }
          ],
          "histogram2dcontour": [
           {
            "colorbar": {
             "outlinewidth": 0,
             "ticks": ""
            },
            "colorscale": [
             [
              0,
              "#0d0887"
             ],
             [
              0.1111111111111111,
              "#46039f"
             ],
             [
              0.2222222222222222,
              "#7201a8"
             ],
             [
              0.3333333333333333,
              "#9c179e"
             ],
             [
              0.4444444444444444,
              "#bd3786"
             ],
             [
              0.5555555555555556,
              "#d8576b"
             ],
             [
              0.6666666666666666,
              "#ed7953"
             ],
             [
              0.7777777777777778,
              "#fb9f3a"
             ],
             [
              0.8888888888888888,
              "#fdca26"
             ],
             [
              1,
              "#f0f921"
             ]
            ],
            "type": "histogram2dcontour"
           }
          ],
          "mesh3d": [
           {
            "colorbar": {
             "outlinewidth": 0,
             "ticks": ""
            },
            "type": "mesh3d"
           }
          ],
          "parcoords": [
           {
            "line": {
             "colorbar": {
              "outlinewidth": 0,
              "ticks": ""
             }
            },
            "type": "parcoords"
           }
          ],
          "pie": [
           {
            "automargin": true,
            "type": "pie"
           }
          ],
          "scatter": [
           {
            "fillpattern": {
             "fillmode": "overlay",
             "size": 10,
             "solidity": 0.2
            },
            "type": "scatter"
           }
          ],
          "scatter3d": [
           {
            "line": {
             "colorbar": {
              "outlinewidth": 0,
              "ticks": ""
             }
            },
            "marker": {
             "colorbar": {
              "outlinewidth": 0,
              "ticks": ""
             }
            },
            "type": "scatter3d"
           }
          ],
          "scattercarpet": [
           {
            "marker": {
             "colorbar": {
              "outlinewidth": 0,
              "ticks": ""
             }
            },
            "type": "scattercarpet"
           }
          ],
          "scattergeo": [
           {
            "marker": {
             "colorbar": {
              "outlinewidth": 0,
              "ticks": ""
             }
            },
            "type": "scattergeo"
           }
          ],
          "scattergl": [
           {
            "marker": {
             "colorbar": {
              "outlinewidth": 0,
              "ticks": ""
             }
            },
            "type": "scattergl"
           }
          ],
          "scattermapbox": [
           {
            "marker": {
             "colorbar": {
              "outlinewidth": 0,
              "ticks": ""
             }
            },
            "type": "scattermapbox"
           }
          ],
          "scatterpolar": [
           {
            "marker": {
             "colorbar": {
              "outlinewidth": 0,
              "ticks": ""
             }
            },
            "type": "scatterpolar"
           }
          ],
          "scatterpolargl": [
           {
            "marker": {
             "colorbar": {
              "outlinewidth": 0,
              "ticks": ""
             }
            },
            "type": "scatterpolargl"
           }
          ],
          "scatterternary": [
           {
            "marker": {
             "colorbar": {
              "outlinewidth": 0,
              "ticks": ""
             }
            },
            "type": "scatterternary"
           }
          ],
          "surface": [
           {
            "colorbar": {
             "outlinewidth": 0,
             "ticks": ""
            },
            "colorscale": [
             [
              0,
              "#0d0887"
             ],
             [
              0.1111111111111111,
              "#46039f"
             ],
             [
              0.2222222222222222,
              "#7201a8"
             ],
             [
              0.3333333333333333,
              "#9c179e"
             ],
             [
              0.4444444444444444,
              "#bd3786"
             ],
             [
              0.5555555555555556,
              "#d8576b"
             ],
             [
              0.6666666666666666,
              "#ed7953"
             ],
             [
              0.7777777777777778,
              "#fb9f3a"
             ],
             [
              0.8888888888888888,
              "#fdca26"
             ],
             [
              1,
              "#f0f921"
             ]
            ],
            "type": "surface"
           }
          ],
          "table": [
           {
            "cells": {
             "fill": {
              "color": "#EBF0F8"
             },
             "line": {
              "color": "white"
             }
            },
            "header": {
             "fill": {
              "color": "#C8D4E3"
             },
             "line": {
              "color": "white"
             }
            },
            "type": "table"
           }
          ]
         },
         "layout": {
          "annotationdefaults": {
           "arrowcolor": "#2a3f5f",
           "arrowhead": 0,
           "arrowwidth": 1
          },
          "autotypenumbers": "strict",
          "coloraxis": {
           "colorbar": {
            "outlinewidth": 0,
            "ticks": ""
           }
          },
          "colorscale": {
           "diverging": [
            [
             0,
             "#8e0152"
            ],
            [
             0.1,
             "#c51b7d"
            ],
            [
             0.2,
             "#de77ae"
            ],
            [
             0.3,
             "#f1b6da"
            ],
            [
             0.4,
             "#fde0ef"
            ],
            [
             0.5,
             "#f7f7f7"
            ],
            [
             0.6,
             "#e6f5d0"
            ],
            [
             0.7,
             "#b8e186"
            ],
            [
             0.8,
             "#7fbc41"
            ],
            [
             0.9,
             "#4d9221"
            ],
            [
             1,
             "#276419"
            ]
           ],
           "sequential": [
            [
             0,
             "#0d0887"
            ],
            [
             0.1111111111111111,
             "#46039f"
            ],
            [
             0.2222222222222222,
             "#7201a8"
            ],
            [
             0.3333333333333333,
             "#9c179e"
            ],
            [
             0.4444444444444444,
             "#bd3786"
            ],
            [
             0.5555555555555556,
             "#d8576b"
            ],
            [
             0.6666666666666666,
             "#ed7953"
            ],
            [
             0.7777777777777778,
             "#fb9f3a"
            ],
            [
             0.8888888888888888,
             "#fdca26"
            ],
            [
             1,
             "#f0f921"
            ]
           ],
           "sequentialminus": [
            [
             0,
             "#0d0887"
            ],
            [
             0.1111111111111111,
             "#46039f"
            ],
            [
             0.2222222222222222,
             "#7201a8"
            ],
            [
             0.3333333333333333,
             "#9c179e"
            ],
            [
             0.4444444444444444,
             "#bd3786"
            ],
            [
             0.5555555555555556,
             "#d8576b"
            ],
            [
             0.6666666666666666,
             "#ed7953"
            ],
            [
             0.7777777777777778,
             "#fb9f3a"
            ],
            [
             0.8888888888888888,
             "#fdca26"
            ],
            [
             1,
             "#f0f921"
            ]
           ]
          },
          "colorway": [
           "#636efa",
           "#EF553B",
           "#00cc96",
           "#ab63fa",
           "#FFA15A",
           "#19d3f3",
           "#FF6692",
           "#B6E880",
           "#FF97FF",
           "#FECB52"
          ],
          "font": {
           "color": "#2a3f5f"
          },
          "geo": {
           "bgcolor": "white",
           "lakecolor": "white",
           "landcolor": "#E5ECF6",
           "showlakes": true,
           "showland": true,
           "subunitcolor": "white"
          },
          "hoverlabel": {
           "align": "left"
          },
          "hovermode": "closest",
          "mapbox": {
           "style": "light"
          },
          "paper_bgcolor": "white",
          "plot_bgcolor": "#E5ECF6",
          "polar": {
           "angularaxis": {
            "gridcolor": "white",
            "linecolor": "white",
            "ticks": ""
           },
           "bgcolor": "#E5ECF6",
           "radialaxis": {
            "gridcolor": "white",
            "linecolor": "white",
            "ticks": ""
           }
          },
          "scene": {
           "xaxis": {
            "backgroundcolor": "#E5ECF6",
            "gridcolor": "white",
            "gridwidth": 2,
            "linecolor": "white",
            "showbackground": true,
            "ticks": "",
            "zerolinecolor": "white"
           },
           "yaxis": {
            "backgroundcolor": "#E5ECF6",
            "gridcolor": "white",
            "gridwidth": 2,
            "linecolor": "white",
            "showbackground": true,
            "ticks": "",
            "zerolinecolor": "white"
           },
           "zaxis": {
            "backgroundcolor": "#E5ECF6",
            "gridcolor": "white",
            "gridwidth": 2,
            "linecolor": "white",
            "showbackground": true,
            "ticks": "",
            "zerolinecolor": "white"
           }
          },
          "shapedefaults": {
           "line": {
            "color": "#2a3f5f"
           }
          },
          "ternary": {
           "aaxis": {
            "gridcolor": "white",
            "linecolor": "white",
            "ticks": ""
           },
           "baxis": {
            "gridcolor": "white",
            "linecolor": "white",
            "ticks": ""
           },
           "bgcolor": "#E5ECF6",
           "caxis": {
            "gridcolor": "white",
            "linecolor": "white",
            "ticks": ""
           }
          },
          "title": {
           "x": 0.05
          },
          "xaxis": {
           "automargin": true,
           "gridcolor": "white",
           "linecolor": "white",
           "ticks": "",
           "title": {
            "standoff": 15
           },
           "zerolinecolor": "white",
           "zerolinewidth": 2
          },
          "yaxis": {
           "automargin": true,
           "gridcolor": "white",
           "linecolor": "white",
           "ticks": "",
           "title": {
            "standoff": 15
           },
           "zerolinecolor": "white",
           "zerolinewidth": 2
          }
         }
        },
        "title": {
         "text": "3D Visualization of Financial News Titles Using SBERT"
        }
       }
      }
     },
     "metadata": {},
     "output_type": "display_data"
    }
   ],
   "source": [
    "import numpy as np\n",
    "import plotly.graph_objects as go\n",
    "from sklearn.decomposition import PCA\n",
    "\n",
    "# Reduce dimensions (vector length from 384 to 3) to 3D for visualization using PCA\n",
    "pca = PCA(n_components=3)  # PCA used for simplicity\n",
    "reduced_embeddings = pca.fit_transform(embeddings)\n",
    "\n",
    "# Create 3D scatter plot\n",
    "fig = go.Figure()\n",
    "\n",
    "for i, embedding in enumerate(reduced_embeddings):\n",
    "    fig.add_trace(go.Scatter3d(\n",
    "        x=[embedding[0]],\n",
    "        y=[embedding[1]],\n",
    "        z=[embedding[2]],\n",
    "        mode='markers',  # Ensure markers are used\n",
    "        marker=dict(size=5),  # Adjust the size as needed\n",
    "        name=titles[i]  # Add the title to the legend\n",
    "    ))\n",
    "\n",
    "# Update layout\n",
    "fig.update_layout(\n",
    "    scene=dict(\n",
    "        xaxis_title='PCA Component 1',\n",
    "        yaxis_title='PCA Component 2',\n",
    "        zaxis_title='PCA Component 3'\n",
    "    ),\n",
    "    title='3D Visualization of Financial News Titles Using SBERT',\n",
    "    legend_title_text='Titles',\n",
    "    margin=dict(l=0, r=0, b=0, t=40)\n",
    ")\n",
    "\n",
    "fig.show()"
   ]
  },
  {
   "cell_type": "markdown",
   "metadata": {},
   "source": [
    "#### A few insights based on the results:\n",
    "\n",
    "- **Clustering of Similar Titles:** The plot effectively shows how SBERT captures and differentiates between semantically similar financial news titles. Titles discussing similar events, such as the stock market downturn, are closely clustered together. For instance, \"The stock market is experiencing a significant downturn.\", \"The stock market saw a sharp decline today.\", and \"Major losses hit the stock market.\" are grouped closely. This clustering indicates that SBERT has effectively captured their semantic similarity, even though the phrasings differ. Similarly, titles about tech stock rallies, interest rate hikes, Bitcoin's market performance, and oil prices form distinct clusters. For example, titles like \"Tech stocks rally as market rebounds from losses.\", \"Technology shares surge following market recovery.\", and \"Recovery drives tech stocks to new highs.\" are grouped together, reflecting their similar contexts. This clustering pattern demonstrates SBERT's ability to understand and encode the semantic content of these news titles accurately.\n",
    "\n",
    "- **Distinct Clusters:** Titles about different events are spread apart. Titles discussing interest rate hikes by the Federal Reserve, such as \"Federal Reserve signals possible interest rate hike.\", \"Fed hints at increasing interest rates soon.\", and \"Interest rate hike likely as suggested by the Federal Reserve.\", form a distinct cluster. This separation from those discussing the stock market or Bitcoin indicates clear differentiation in context and subject matter. Similarly, titles about oil prices, like \"Oil prices surge due to supply chain disruptions.\", \"Supply chain issues cause a spike in oil prices.\", and \"Oil prices increase sharply as supply chains falter.\", also form a distinct and clear cluster. These groupings highlight how SBERT can differentiate between various financial events, even when they are reported differently."
   ]
  },
  {
   "cell_type": "markdown",
   "metadata": {},
   "source": [
    "#### Considerations in Interpretation\n",
    "- Cosine similarity captures overall semantic closeness but might miss finer nuances such as tone or specific entity relationships.\n",
    "- High similarity scores suggest semantic similarity, but small differences in scores might not always be meaningful. It's crucial to set appropriate thresholds for what constitutes \"similar\" in your context."
   ]
  },
  {
   "cell_type": "markdown",
   "metadata": {},
   "source": [
    "---"
   ]
  },
  {
   "cell_type": "markdown",
   "metadata": {},
   "source": [
    "### Related Articles\n",
    "- [Financial News Strategy | 1. Sourcing Financial News]()\n",
    "- [Financial News Strategy | 2. Sentence Embeddings (This Article)]()\n",
    "- [Financial News Strategy | 3. Embeddings Dimensionality Reduction]() **to be released\n",
    "- [Financial News Strategy | 4. Clustering Financial News]() **to be released"
   ]
  },
  {
   "cell_type": "markdown",
   "metadata": {},
   "source": [
    "---"
   ]
  },
  {
   "cell_type": "markdown",
   "metadata": {},
   "source": [
    "### Optimized Embedding Processor with GPU Support for Sentence Transformers\n",
    "Here you have a Python class, `EmbeddingsProcessor`, that manages the efficient computation and caching of sentence embeddings using the SentenceTransformer library. It dynamically selects the optimal device (NVIDIA CUDA, Apple MPS, AMD ROCm, or CPU) for processing, normalizes embeddings, and caches them to reduce redundant computations. This facilitates scalable and performance-optimized embedding generation. "
   ]
  },
  {
   "cell_type": "code",
   "execution_count": 16,
   "metadata": {},
   "outputs": [
    {
     "name": "stdout",
     "output_type": "stream",
     "text": [
      "The stock market is experiencing a significant downturn. tensor([ 0.0315, -0.0482,  0.0491,  0.0356, -0.0831,  0.0144, -0.0546,  0.0748,\n",
      "         0.0136, -0.0191], device='mps:0')\n"
     ]
    }
   ],
   "source": [
    "import os\n",
    "import pickle\n",
    "import torch\n",
    "from sentence_transformers import SentenceTransformer\n",
    "from typing import List, Dict\n",
    "\n",
    "class EmbeddingsProcessor:\n",
    "    def __init__(self, model: SentenceTransformer, cache_path: str, device: str = None):\n",
    "        \"\"\"\n",
    "        Initializes the EmbeddingsProcessor with a SentenceTransformer model,\n",
    "        a path for caching embeddings, and an optional device specification.\n",
    "\n",
    "        Parameters:\n",
    "        model (SentenceTransformer): The SentenceTransformer model used for generating embeddings.\n",
    "        cache_path (str): Path to store the cache of embeddings.\n",
    "        device (str): Preferred device for computation ('cuda', 'mps', 'cpu', or None).\n",
    "                      If None, the best available device will be used.\n",
    "        \"\"\"\n",
    "        self.model = model\n",
    "        self.cache_path = cache_path\n",
    "        self.device = self._get_device(device)  # Determine the best available device\n",
    "        self.embeddings_cache = self._load_embeddings_cache()  # Load cached embeddings if available\n",
    "\n",
    "    def _get_device(self, preferred_device: str = None) -> torch.device:\n",
    "        \"\"\"\n",
    "        Determines the best available device for computation.\n",
    "\n",
    "        Parameters:\n",
    "        preferred_device (str): The preferred device (optional).\n",
    "\n",
    "        Returns:\n",
    "        torch.device: The best available device.\n",
    "        \"\"\"\n",
    "        if preferred_device:\n",
    "            # Attempt to use the preferred device\n",
    "            device = torch.device(preferred_device)\n",
    "            if device.type == 'cuda' and torch.cuda.is_available():\n",
    "                return device\n",
    "            elif device.type == 'mps' and torch.backends.mps.is_available():\n",
    "                return device\n",
    "            elif device.type == 'rocm' and torch.cuda.is_available():\n",
    "                return device  # ROCm is detected as CUDA\n",
    "        # Default to the best available device\n",
    "        if torch.cuda.is_available():\n",
    "            return torch.device('cuda')\n",
    "        elif torch.backends.mps.is_available():\n",
    "            return torch.device('mps')\n",
    "        else:\n",
    "            return torch.device('cpu')\n",
    "\n",
    "    def _load_embeddings_cache(self) -> Dict[str, torch.Tensor]:\n",
    "        \"\"\"\n",
    "        Loads embeddings cache from the specified file path.\n",
    "\n",
    "        Returns:\n",
    "        dict: The loaded embeddings cache or an empty dictionary if the cache does not exist.\n",
    "        \"\"\"\n",
    "        if os.path.exists(self.cache_path):\n",
    "            # Load the cache if the file exists\n",
    "            with open(self.cache_path, 'rb') as f:\n",
    "                return pickle.load(f)\n",
    "        return {}  # Return an empty dictionary if the cache file does not exist\n",
    "\n",
    "    def _save_embeddings_cache(self):\n",
    "        \"\"\"\n",
    "        Saves the current embeddings cache to the specified file path.\n",
    "        \"\"\"\n",
    "        with open(self.cache_path, 'wb') as f:\n",
    "            pickle.dump(self.embeddings_cache, f)\n",
    "\n",
    "    def _compute_embeddings(self, corpus: List[str]) -> torch.Tensor:\n",
    "        \"\"\"\n",
    "        Computes and caches embeddings for a given corpus of texts.\n",
    "\n",
    "        Parameters:\n",
    "        corpus (list): A list of texts to compute embeddings for.\n",
    "\n",
    "        Returns:\n",
    "        torch.Tensor: A tensor of normalized embeddings.\n",
    "        \"\"\"\n",
    "        embeddings = []\n",
    "        new_embeddings = {}\n",
    "        for text in corpus:\n",
    "            if text not in self.embeddings_cache:\n",
    "                # Compute embedding if it's not already cached\n",
    "                embedding = self.model.encode(text, convert_to_tensor=True)\n",
    "                new_embeddings[text] = embedding.cpu()  # Store the embedding on CPU to save GPU memory\n",
    "            else:\n",
    "                new_embeddings[text] = self.embeddings_cache[text]\n",
    "            embeddings.append(new_embeddings[text])\n",
    "\n",
    "        if new_embeddings:\n",
    "            # Update the cache if new embeddings were computed\n",
    "            self.embeddings_cache.update(new_embeddings)\n",
    "            self._save_embeddings_cache()\n",
    "\n",
    "        # Stack embeddings into a single tensor\n",
    "        embeddings_tensor = torch.stack(embeddings)\n",
    "        embeddings_tensor = embeddings_tensor.to(self.device)  # Move the tensor to the desired device\n",
    "        # Normalize the embeddings by their norms\n",
    "        norms = embeddings_tensor.norm(p=2, dim=1, keepdim=True)\n",
    "        normalized_embeddings = embeddings_tensor.div(norms)\n",
    "        return normalized_embeddings\n",
    "\n",
    "    def process_batch(self, corpus: List[str]) -> torch.Tensor:\n",
    "        \"\"\"\n",
    "        Processes a batch of texts and returns their embeddings.\n",
    "\n",
    "        Parameters:\n",
    "        corpus (list): A list of texts to process.\n",
    "\n",
    "        Returns:\n",
    "        torch.Tensor: A tensor of embeddings for the given texts.\n",
    "        \"\"\"\n",
    "        embeddings = self._compute_embeddings(corpus)\n",
    "        return embeddings\n",
    "\n",
    "# Example usage of the EmbeddingsProcessor\n",
    "# Load a SentenceTransformer model\n",
    "model = SentenceTransformer('sentence-transformers/all-MiniLM-L6-v2')\n",
    "# Path to store the embeddings cache\n",
    "cache_path = 'embeddings_cache.pkl'\n",
    "# Initialize the processor\n",
    "processor = EmbeddingsProcessor(model, cache_path)\n",
    "\n",
    "# Example corpus of texts\n",
    "corpus = titles # Using the financial news titles from the previous example\n",
    "# Process the corpus to get embeddings\n",
    "embeddings = processor.process_batch(corpus)\n",
    "print(corpus[0], embeddings[0][0:10]) # you can see here that for the first title, SBERT has generated a 384-dimensional embedding (only 10 dimensions are shown here to avoid a long output)"
   ]
  }
 ],
 "metadata": {
  "kernelspec": {
   "display_name": "Python 3 (ipykernel)",
   "language": "python",
   "name": "python3"
  },
  "language_info": {
   "codemirror_mode": {
    "name": "ipython",
    "version": 3
   },
   "file_extension": ".py",
   "mimetype": "text/x-python",
   "name": "python",
   "nbconvert_exporter": "python",
   "pygments_lexer": "ipython3",
   "version": "3.11.0"
  }
 },
 "nbformat": 4,
 "nbformat_minor": 4
}
